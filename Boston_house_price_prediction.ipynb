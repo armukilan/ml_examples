{
  "nbformat": 4,
  "nbformat_minor": 0,
  "metadata": {
    "colab": {
      "provenance": [],
      "authorship_tag": "ABX9TyP7qZbQRPo37J5c1x2SUpIa",
      "include_colab_link": true
    },
    "kernelspec": {
      "name": "python3",
      "display_name": "Python 3"
    },
    "language_info": {
      "name": "python"
    }
  },
  "cells": [
    {
      "cell_type": "markdown",
      "metadata": {
        "id": "view-in-github",
        "colab_type": "text"
      },
      "source": [
        "<a href=\"https://colab.research.google.com/github/armukilan/ml_examples/blob/main/Boston_house_price_prediction.ipynb\" target=\"_parent\"><img src=\"https://colab.research.google.com/assets/colab-badge.svg\" alt=\"Open In Colab\"/></a>"
      ]
    },
    {
      "cell_type": "code",
      "execution_count": null,
      "metadata": {
        "id": "4asu9Sv_29bC"
      },
      "outputs": [],
      "source": [
        "import kagglehub\n",
        "boston_house_prices_path = kagglehub.dataset_download('vikrishnan/boston-house-prices')\n",
        "\n",
        "print('Data source import complete.')"
      ]
    },
    {
      "cell_type": "code",
      "source": [
        "# Importing the libraries\n",
        "import pandas as pd\n",
        "import numpy as np\n",
        "\n",
        "import plotly.express as px\n",
        "import plotly.graph_objects as go\n",
        "import plotly.io as pio\n",
        "\n",
        "from sklearn import metrics\n",
        "import matplotlib.pyplot as plt\n",
        "import seaborn as sns\n",
        "%matplotlib inline"
      ],
      "metadata": {
        "id": "a2Ke-pWU4914"
      },
      "execution_count": null,
      "outputs": []
    },
    {
      "cell_type": "code",
      "source": [
        "# Method 1: Using the direct URL (your approach - fixed)\n",
        "data_url = \"http://lib.stat.cmu.edu/datasets/boston\"\n",
        "raw_df = pd.read_csv(data_url, sep=\"\\s+\", skiprows=22, header=None)\n",
        "\n",
        "# Correctly reshape the data\n",
        "x = np.hstack([raw_df.values[::2, :], raw_df.values[1::2, :2]])\n",
        "y = raw_df.values[1::2, 2]\n",
        "\n",
        "# Define feature names (same as sklearn's Boston dataset)\n",
        "feature_names = ['CRIM', 'ZN', 'INDUS', 'CHAS', 'NOX', 'RM', 'AGE', 'DIS',\n",
        "                'RAD', 'TAX', 'PTRATIO', 'B', 'LSTAT']\n",
        "\n",
        "# Create DataFrame (matching your original structure)\n",
        "data = pd.DataFrame(x, columns=feature_names)\n",
        "data[\"SalePrice\"] = y\n",
        "\n",
        "# Now you can use data.head()\n",
        "print(data.head())\n",
        "print(f\"\\nDataset shape: {data.shape}\")\n",
        "print(f\"Feature columns: {list(data.columns[:-1])}\")\n",
        "print(f\"Target column: {data.columns[-1]}\")"
      ],
      "metadata": {
        "id": "aFxvuZbt5W7O"
      },
      "execution_count": null,
      "outputs": []
    },
    {
      "cell_type": "code",
      "source": [
        "print(\"Boston Housing Dataset Information:\")\n",
        "print(\"=\"*40)\n",
        "print(f\"Dataset shape: {data.shape}\")\n",
        "print(f\"Features: {data.shape[1] - 1}\")\n",
        "print(f\"Target: SalePrice\")\n",
        "print(\"\\nFeature Names:\")\n",
        "print(list(data.columns[:-1]))\n",
        "print(f\"\\nFirst few rows:\")\n",
        "print(data.head())"
      ],
      "metadata": {
        "id": "PFZiiyjL8H5e"
      },
      "execution_count": null,
      "outputs": []
    },
    {
      "cell_type": "code",
      "source": [
        "data.info()"
      ],
      "metadata": {
        "id": "l5VuLaxM9W3k"
      },
      "execution_count": null,
      "outputs": []
    },
    {
      "cell_type": "code",
      "source": [
        "data.describe()"
      ],
      "metadata": {
        "id": "GEqVJBSi9fSl"
      },
      "execution_count": null,
      "outputs": []
    },
    {
      "cell_type": "markdown",
      "source": [
        "EDA"
      ],
      "metadata": {
        "id": "JaXPUccS9oU-"
      }
    },
    {
      "cell_type": "code",
      "source": [
        "data.isnull().sum()"
      ],
      "metadata": {
        "id": "PkZYjBye9p_6"
      },
      "execution_count": null,
      "outputs": []
    },
    {
      "cell_type": "code",
      "source": [
        "sns.pairplot(data, height=2.5)\n",
        "plt.tight_layout()"
      ],
      "metadata": {
        "id": "o4LX_nK39vmQ"
      },
      "execution_count": null,
      "outputs": []
    },
    {
      "cell_type": "code",
      "source": [
        "sns.displot(data['SalePrice'])"
      ],
      "metadata": {
        "id": "gsSNMijD-Isu"
      },
      "execution_count": null,
      "outputs": []
    },
    {
      "cell_type": "code",
      "source": [
        "print(\"Skewness: %f\" % data['SalePrice'].skew())\n",
        "print(\"Kurtosis: %f\" % data['SalePrice'].kurt())"
      ],
      "metadata": {
        "id": "CHQ_swmt-MzQ"
      },
      "execution_count": null,
      "outputs": []
    },
    {
      "cell_type": "code",
      "source": [
        "fig, ax = plt.subplots()\n",
        "ax.scatter(x = data['CRIM'], y = data['SalePrice'])\n",
        "plt.ylabel('SalePrice', fontsize=13)\n",
        "plt.xlabel('CRIM', fontsize=13)\n",
        "plt.show()"
      ],
      "metadata": {
        "id": "EqAcUqGl_MgY"
      },
      "execution_count": null,
      "outputs": []
    },
    {
      "cell_type": "code",
      "source": [
        "fig, ax = plt.subplots()\n",
        "ax.scatter(x = data['AGE'], y = data['SalePrice'])\n",
        "plt.ylabel('SalePrice', fontsize=13)\n",
        "plt.xlabel('CRIM', fontsize=13)\n",
        "plt.show()"
      ],
      "metadata": {
        "id": "T3OE8Hwj_ir3"
      },
      "execution_count": null,
      "outputs": []
    },
    {
      "cell_type": "code",
      "source": [
        "from scipy import stats\n",
        "from scipy.stats import norm, skew\n",
        "sns.distplot(data['SalePrice'] , fit=norm)\n",
        "(mu, sigma) = norm.fit(data['SalePrice'])\n",
        "print( '\\n mu = {:.2f} and sigma = {:.2f}\\n'.format(mu, sigma))\n",
        "plt.legend(['Normal dist. ($\\mu=$ {:.2f} and $\\sigma=$ {:.2f} )'.format(mu, sigma)], loc='best')\n",
        "plt.ylabel('Frequency')\n",
        "plt.title('SalePrice distribution')\n",
        "fig = plt.figure()\n",
        "res = stats.probplot(data['SalePrice'], plot=plt)\n",
        "plt.show()"
      ],
      "metadata": {
        "id": "B0hXfCB1_2GI"
      },
      "execution_count": null,
      "outputs": []
    },
    {
      "cell_type": "markdown",
      "source": [
        "Data Correlation"
      ],
      "metadata": {
        "id": "yI0YKbgaA76N"
      }
    },
    {
      "cell_type": "code",
      "source": [
        "plt.figure(figsize=(10,10))\n",
        "correlation = data.corr()\n",
        "sns.heatmap(correlation, annot=True, linewidths=.5, cmap=plt.cm.PuBu)\n",
        "plt.show()"
      ],
      "metadata": {
        "id": "GuvsmBH4A_QX"
      },
      "execution_count": null,
      "outputs": []
    },
    {
      "cell_type": "markdown",
      "source": [
        "Model Building"
      ],
      "metadata": {
        "id": "RsEQ6GQdL4Ho"
      }
    },
    {
      "cell_type": "code",
      "source": [
        "from sklearn.model_selection import train_test_split\n",
        "# Imports the train_test_split function, which is used to split your dataset into training and testing subsets.\n",
        "\n",
        "X = data.drop(\"SalePrice\", axis=1)\n",
        "# Creates a new DataFrame X that contains all columns from data except the \"SalePrice\" column. This represents the features or independent variables.\n",
        "\n",
        "y = data[\"SalePrice\"]\n",
        "# Extracts the \"SalePrice\" column from data as the target variable y. This is the dependent variable (what you want to predict).\n",
        "\n",
        "X_train, X_test, y_train, y_test = train_test_split(X,y,test_size=0.2,random_state=42)\n",
        "# Splits the dataset into: - X_train, y_train: 80% of the data for training. X_test, y_test: 20% of the data for testing.\n",
        "# test_size=0.2: Specifies the test set should be 20% of the total.\n",
        "# random_state=42: Ensures reproducibility. Every time you run it, you get the same split.\n",
        "\n",
        "print(X_train.shape)\n",
        "print(X_test.shape)\n",
        "print(y_train.shape)\n",
        "print(y_test.shape)"
      ],
      "metadata": {
        "id": "TgvI1yEiL5rx"
      },
      "execution_count": null,
      "outputs": []
    },
    {
      "cell_type": "code",
      "source": [
        "from sklearn.linear_model import LinearRegression\n",
        "\n",
        "lr = LinearRegression()\n",
        "lr.fit(X_train, y_train)\n",
        "\n",
        "predictions = lr.predict(X_test)\n",
        "\n",
        "print(\"Actual value of the house:- \", y_test[0])\n",
        "print(\"Model Predicted Value:- \", predictions[0])"
      ],
      "metadata": {
        "id": "aMW2NIdn3iIt"
      },
      "execution_count": null,
      "outputs": []
    },
    {
      "cell_type": "code",
      "source": [
        "from sklearn.metrics import mean_squared_error\n",
        "\n",
        "mse = mean_squared_error(y_test, predictions)\n",
        "rmse = np.sqrt(mse)\n",
        "print(rmse)"
      ],
      "metadata": {
        "id": "MDRfNSus5YxE"
      },
      "execution_count": null,
      "outputs": []
    }
  ]
}